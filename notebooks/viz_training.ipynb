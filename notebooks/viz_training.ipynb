{
 "metadata": {
  "language_info": {
   "codemirror_mode": {
    "name": "ipython",
    "version": 3
   },
   "file_extension": ".py",
   "mimetype": "text/x-python",
   "name": "python",
   "nbconvert_exporter": "python",
   "pygments_lexer": "ipython3",
   "version": "3.9.4"
  },
  "orig_nbformat": 4,
  "kernelspec": {
   "name": "python3",
   "display_name": "Python 3.9.4 64-bit ('gp-bfgs': conda)"
  },
  "interpreter": {
   "hash": "43cd1a811e68af331b9ca0b873fb104a3b7ca89da05b580e51ec1c1374318411"
  }
 },
 "nbformat": 4,
 "nbformat_minor": 2,
 "cells": [
  {
   "cell_type": "code",
   "execution_count": null,
   "metadata": {},
   "outputs": [],
   "source": [
    "import wandb\n",
    "import pandas as pd\n",
    "import matplotlib.pyplot as plt\n",
    "import seaborn as sns\n",
    "\n",
    "sns.set(font_scale=2., style='whitegrid')"
   ]
  },
  {
   "cell_type": "code",
   "execution_count": null,
   "metadata": {},
   "outputs": [],
   "source": [
    "def wandb_metrics(sweep_id, keys=None, config_keys=None, summary=True):\n",
    "    sweep = wandb.Api().sweep(sweep_id)\n",
    "    if isinstance(keys, list):\n",
    "        keys.extend(['_runtime', '_step', '_timestamp'])\n",
    "        keys = list(set(keys))\n",
    "\n",
    "    data = []\n",
    "    for run in sweep.runs:\n",
    "        cfg = {k: run.config[k] for k in config_keys}\n",
    "        if summary:\n",
    "            data.append({ **cfg, **run.summary })\n",
    "        else:\n",
    "            for row in run.scan_history(keys=keys):\n",
    "                data.append(dict(run_id=run.id, **cfg, **row))\n",
    "    \n",
    "    return sweep, pd.DataFrame(data)\n",
    "\n",
    "config_keys = ['dataset', 'lbfgs', 'lr', 'lanc_iter', 'pre_size', 'cg_tol']\n",
    "dataset2id = dict(\n",
    "    bike='gausspr/gp-lbfgs/mtprago6',\n",
    "    elevators='gausspr/gp-lbfgs/i2jeqn9b',\n",
    "    protein='gausspr/gp-lbfgs/bdtcwoow'\n",
    ")\n",
    "\n",
    "## Change this and re-run everything.\n",
    "dataset = 'bike'"
   ]
  },
  {
   "cell_type": "code",
   "execution_count": null,
   "metadata": {},
   "outputs": [],
   "source": [
    "_, metrics = wandb_metrics(dataset2id[dataset], config_keys=config_keys)"
   ]
  },
  {
   "source": [
    "## Varying Root Decomposition Size"
   ],
   "cell_type": "markdown",
   "metadata": {}
  },
  {
   "source": [
    "### NLL\n",
    "\n",
    "The best test NLL achieved, selected via best validation loss.\n",
    "\n",
    "The typical trend is that higher rank and lower CG tolerance lead to better performance with LBFGS."
   ],
   "cell_type": "markdown",
   "metadata": {}
  },
  {
   "cell_type": "code",
   "execution_count": null,
   "metadata": {},
   "outputs": [],
   "source": [
    "fig, axes = plt.subplots(figsize=(24, 18), nrows=len(metrics.pre_size.unique()), ncols=len(metrics.cg_tol.unique()))\n",
    "\n",
    "for i, pre_size in enumerate(sorted(metrics.pre_size.unique())):\n",
    "    for j, cg_tol in enumerate(sorted(metrics.cg_tol.unique(), reverse=True)):\n",
    "        sns.lineplot(ax=axes[i,j],\n",
    "                     data=metrics[(metrics.pre_size == pre_size) & (metrics.cg_tol == cg_tol)],\n",
    "                     x='lanc_iter', y='test/best_nll', hue='lbfgs',\n",
    "                     marker='o', markersize=15, linewidth=5, palette=sns.color_palette('husl', 2))\n",
    "        axes[i,j].set_title(f'{pre_size} / {cg_tol}')\n",
    "        axes[i,j].set_xticks(sorted(metrics.lanc_iter.unique()))\n",
    "        axes[i,j].set_xscale('log')\n",
    "        axes[i,j].set_xlabel('Root Decomposition Size' if i == 2 else '')\n",
    "        axes[i,j].set_ylabel('Best NLL' if j == 0 else '')\n",
    "        axes[i,j].legend(title='LBFGS')\n",
    "\n",
    "fig.suptitle('Preconditioner Size / CG Tolerance')\n",
    "fig.supxlabel(r'CG Tolerance $\\longrightarrow$')\n",
    "fig.supylabel(r'$\\longleftarrow$ Preconditioner Size')\n",
    "fig.tight_layout()"
   ]
  },
  {
   "source": [
    "### RMSE\n",
    "\n",
    "The corresponding test RMSE, for the best test NLL. This may not always be better."
   ],
   "cell_type": "markdown",
   "metadata": {}
  },
  {
   "cell_type": "code",
   "execution_count": null,
   "metadata": {},
   "outputs": [],
   "source": [
    "fig, axes = plt.subplots(figsize=(24, 18), nrows=len(metrics.pre_size.unique()), ncols=len(metrics.cg_tol.unique()))\n",
    "\n",
    "for i, pre_size in enumerate(sorted(metrics.pre_size.unique())):\n",
    "    for j, cg_tol in enumerate(sorted(metrics.cg_tol.unique(), reverse=True)):\n",
    "        sns.lineplot(ax=axes[i,j],\n",
    "                     data=metrics[(metrics.pre_size == pre_size) & (metrics.cg_tol == cg_tol)],\n",
    "                     x='lanc_iter', y='test/best_rmse', hue='lbfgs',\n",
    "                     marker='o', markersize=15, linewidth=5, palette=sns.color_palette('husl', 2))\n",
    "        axes[i,j].set_title(f'{pre_size} / {cg_tol}')\n",
    "        axes[i,j].set_xscale('log')\n",
    "        axes[i,j].set_xlabel('Root Decomposition Size' if i == 2 else '')\n",
    "        axes[i,j].set_ylabel('Best RMSE' if j == 0 else '')\n",
    "        axes[i,j].legend(title='LBFGS')\n",
    "\n",
    "fig.suptitle('Preconditioner Size / CG Tolerance')\n",
    "fig.supxlabel(r'CG Tolerance $\\longrightarrow$')\n",
    "fig.supylabel(r'$\\longleftarrow$ Preconditioner Size')\n",
    "fig.tight_layout()"
   ]
  },
  {
   "source": [
    "## Varying Tolerance\n",
    "\n",
    "The same conclusion as earlier, just plotting different variables."
   ],
   "cell_type": "markdown",
   "metadata": {}
  },
  {
   "source": [
    "### NLL"
   ],
   "cell_type": "markdown",
   "metadata": {}
  },
  {
   "cell_type": "code",
   "execution_count": null,
   "metadata": {},
   "outputs": [],
   "source": [
    "fig, axes = plt.subplots(figsize=(32, 16), ncols=len(metrics.lanc_iter.unique()), nrows=len(metrics.pre_size.unique()))\n",
    "\n",
    "for i, pre_size in enumerate(sorted(metrics.pre_size.unique())):\n",
    "    for j, lanc_iter in enumerate(sorted(metrics.lanc_iter.unique())):\n",
    "        sns.lineplot(ax=axes[i,j],\n",
    "                     data=metrics[(metrics.pre_size == pre_size) & (metrics.lanc_iter == lanc_iter)],\n",
    "                     x='cg_tol', y='test/best_nll', hue='lbfgs',\n",
    "                     marker='o', markersize=15, linewidth=5, palette=sns.color_palette('husl', 2))\n",
    "        axes[i,j].set_title(f'{pre_size} / {lanc_iter}')\n",
    "        axes[i,j].set_xscale('log')\n",
    "        axes[i,j].set_xlabel('CG Tolerance' if i == 2 else '')\n",
    "        axes[i,j].set_ylabel('Best NLL' if j == 0 else '')\n",
    "        axes[i,j].legend(title='LBFGS')\n",
    "\n",
    "fig.suptitle('Preconditioner Size / Root Decomposition Size')\n",
    "fig.supxlabel(r'Root Decomposition Size $\\longrightarrow$')\n",
    "fig.supylabel(r'$\\longleftarrow$ Preconditioner Size')\n",
    "fig.tight_layout()"
   ]
  },
  {
   "source": [
    "### RMSE"
   ],
   "cell_type": "markdown",
   "metadata": {}
  },
  {
   "cell_type": "code",
   "execution_count": null,
   "metadata": {},
   "outputs": [],
   "source": [
    "fig, axes = plt.subplots(figsize=(32, 16), ncols=len(metrics.lanc_iter.unique()), nrows=len(metrics.pre_size.unique()))\n",
    "\n",
    "for i, pre_size in enumerate(sorted(metrics.pre_size.unique())):\n",
    "    for j, lanc_iter in enumerate(sorted(metrics.lanc_iter.unique())):\n",
    "        sns.lineplot(ax=axes[i,j],\n",
    "                     data=metrics[(metrics.pre_size == pre_size) & (metrics.lanc_iter == lanc_iter)],\n",
    "                     x='cg_tol', y='test/best_rmse', hue='lbfgs',\n",
    "                     marker='o', markersize=15, linewidth=5, palette=sns.color_palette('husl', 2))\n",
    "        axes[i,j].set_title(f'{pre_size} / {lanc_iter}')\n",
    "        axes[i,j].set_xticks(sorted(metrics.cg_tol.unique()))\n",
    "        axes[i,j].set_xscale('log')\n",
    "        axes[i,j].set_xlabel('CG Tolerance' if i == 2 else '')\n",
    "        axes[i,j].set_ylabel('Best RMSE' if j == 0 else '')\n",
    "        axes[i,j].legend(title='LBFGS')\n",
    "\n",
    "fig.suptitle('Preconditioner Size / Root Decomposition Size')\n",
    "fig.supxlabel(r'Root Decomposition Size $\\longrightarrow$')\n",
    "fig.supylabel(r'$\\longleftarrow$ Preconditioner Size')\n",
    "fig.tight_layout()"
   ]
  },
  {
   "source": [
    "## Training Time\n",
    "\n",
    "The general trend here is that LBFGS achieves better Train MLL and Test RMSE in fewer epochs. But epochs take far longer with LBFGS than Adam, as expected. LBFGS curves also appear to be far less stable."
   ],
   "cell_type": "markdown",
   "metadata": {}
  },
  {
   "cell_type": "code",
   "execution_count": null,
   "metadata": {},
   "outputs": [],
   "source": [
    "_, metrics = wandb_metrics(dataset2id[dataset], config_keys=config_keys, summary=False)"
   ]
  },
  {
   "cell_type": "code",
   "execution_count": null,
   "metadata": {},
   "outputs": [],
   "source": [
    "plt_data = metrics[(metrics.cg_tol == 1e-3) & (metrics.pre_size == 100) & (metrics.lanc_iter == 10000)].copy()\n",
    "plt_data['train/total_cu_ts'] = plt_data.groupby(by=['run_id'])['train/total_ts'].cumsum() / 60\n",
    "\n",
    "fig, axes = plt.subplots(figsize=(21,7), ncols=3)\n",
    "\n",
    "sns.lineplot(ax=axes[0], data=plt_data,\n",
    "             x='_step', y='train/mll', hue='lbfgs', palette=sns.color_palette('husl', 2), linewidth=3)\n",
    "axes[0].set_xlabel('Epochs')\n",
    "axes[0].set_ylabel('Train MLL')\n",
    "axes[0].legend(title='LBFGS')\n",
    "\n",
    "sns.lineplot(ax=axes[1], data=plt_data,\n",
    "             x='_step', y='test/rmse', hue='lbfgs', palette=sns.color_palette('husl', 2), linewidth=3)\n",
    "axes[1].set_xlabel('Epochs')\n",
    "axes[1].set_ylabel('Test RMSE')\n",
    "axes[1].legend(title='LBFGS');\n",
    "\n",
    "sns.lineplot(ax=axes[2], data=plt_data,\n",
    "             x='_step', y='train/total_cu_ts', hue='lbfgs', palette=sns.color_palette('husl', 2), linewidth=3)\n",
    "axes[2].set_xlabel('Epochs')\n",
    "axes[2].set_ylabel('Runtime (minutes)')\n",
    "axes[2].set_yscale('log')\n",
    "axes[2].legend(title='LBFGS')\n",
    "\n",
    "fig.tight_layout()"
   ]
  },
  {
   "source": [
    "### Train MLL"
   ],
   "cell_type": "markdown",
   "metadata": {}
  },
  {
   "cell_type": "code",
   "execution_count": null,
   "metadata": {},
   "outputs": [],
   "source": [
    "fig, axes = plt.subplots(figsize=(32, 16), ncols=len(metrics.lanc_iter.unique()), nrows=len(metrics.pre_size.unique()))\n",
    "\n",
    "for i, pre_size in enumerate(sorted(metrics.pre_size.unique())):\n",
    "    for j, lanc_iter in enumerate(sorted(metrics.lanc_iter.unique())):\n",
    "        sns.lineplot(ax=axes[i,j],\n",
    "                     data=metrics[(metrics.pre_size == pre_size) & (metrics.lanc_iter == lanc_iter)],\n",
    "                     x='_step', y='train/mll', style='lbfgs', hue='cg_tol', palette=sns.color_palette('hls', 4),\n",
    "                     linewidth=3)\n",
    "        axes[i,j].set_title(f'{pre_size} / {lanc_iter}')\n",
    "        axes[i,j].set_xlabel('Epochs' if i == 2 else '')\n",
    "        axes[i,j].set_ylabel('Train MLL' if j == 0 else '')\n",
    "\n",
    "fig.suptitle('Preconditioner Size / Root Decomposition Size')\n",
    "fig.supxlabel(r'Root Decomposition Size $\\longrightarrow$')\n",
    "fig.supylabel(r'$\\longleftarrow$ Preconditioner Size')\n",
    "fig.tight_layout()"
   ]
  },
  {
   "source": [
    "### Test RMSE\n",
    "\n",
    "These curves are very noisy, probably not worth analyzing for now."
   ],
   "cell_type": "markdown",
   "metadata": {}
  },
  {
   "cell_type": "code",
   "execution_count": null,
   "metadata": {},
   "outputs": [],
   "source": [
    "fig, axes = plt.subplots(figsize=(32, 16), ncols=len(metrics.lanc_iter.unique()), nrows=len(metrics.pre_size.unique()))\n",
    "\n",
    "for i, pre_size in enumerate(sorted(metrics.pre_size.unique())):\n",
    "    for j, lanc_iter in enumerate(sorted(metrics.lanc_iter.unique())):\n",
    "        sns.lineplot(ax=axes[i,j],\n",
    "                     data=metrics[(metrics.pre_size == pre_size) & (metrics.lanc_iter == lanc_iter)],\n",
    "                     x='_step', y='test/rmse', style='lbfgs', hue='cg_tol', palette=sns.color_palette('hls', 4),\n",
    "                     linewidth=3)\n",
    "        axes[i,j].set_title(f'{pre_size} / {lanc_iter}')\n",
    "        axes[i,j].set_xlabel('Epochs' if i == 2 else '')\n",
    "        axes[i,j].set_ylabel('Test RMSE' if j == 0 else '')\n",
    "\n",
    "fig.suptitle('Preconditioner Size / Root Decomposition Size')\n",
    "fig.supxlabel(r'Root Decomposition Size $\\longrightarrow$')\n",
    "fig.supylabel(r'$\\longleftarrow$ Preconditioner Size')\n",
    "fig.tight_layout()"
   ]
  },
  {
   "cell_type": "code",
   "execution_count": null,
   "metadata": {},
   "outputs": [],
   "source": []
  }
 ]
}