{
 "cells": [
  {
   "cell_type": "markdown",
   "id": "f0b62b8e",
   "metadata": {},
   "source": [
    "## \"When are Iterative Gaussian Processes Reliably Accurate?\"\n",
    "\n",
    "by Wesley Maddox, Sanyam Kapoor, Andrew Gordon Wilson\n",
    "\n",
    "*Beyond First-Order Methods in ML Workshop at ICML 2021*: https://sites.google.com/view/optml-icml2021/accepted-papers?authuser=0\n",
    "\n",
    "Local link: https://wjmaddox.github.io/assets/iterative_gps_optml.pdf"
   ]
  },
  {
   "cell_type": "code",
   "execution_count": 1,
   "id": "588ee0ff",
   "metadata": {},
   "outputs": [],
   "source": [
    "import torch\n",
    "\n",
    "import time\n",
    "\n",
    "import sys\n",
    "sys.path.append(\"/home/wesley_m/PyTorch-LBFGS/functions\")\n",
    "from LBFGS import FullBatchLBFGS\n",
    "\n"
   ]
  },
  {
   "cell_type": "markdown",
   "id": "dc71d9f7",
   "metadata": {},
   "source": [
    "## Gaussian Process Intro\n",
    "\n",
    "\\begin{align}\n",
    "f \\sim \\mathcal{GP}(\\mu_\\theta, k_\\theta(\\mathbf{X}, \\mathbf{X}))\n",
    "\\end{align}\n",
    "\\begin{align}\n",
    "y \\sim \\mathcal{N}(f, \\sigma^2 I)\n",
    "\\end{align}\n",
    "\n",
    "While extremely flexible models, the catch with GPs is that the kernel function induces a matrix of size $n \\times n$ that must be inverted for GP prediction and training.\n",
    "\n",
    "Predictive equations:\n",
    "\\begin{align}\n",
    "p(f(\\mathbf{X}_\\star) \\mid \\mathbf{X}_\\star,& \\mathcal{D}, \\theta) = \\mathcal{N}(\\mu(\\mathbf{X}_\\star), \\Sigma(\\mathbf{X}_\\star)), \\label{eq:gp_post} \\\\\n",
    "\\mu(\\mathbf{X}_\\star) &= K_{\\mathbf{X}_\\star, \\mathbf{X}} \\widehat{K}_{\\mathbf{X},\\mathbf{X}}^{-1} \\mathbf{y}~, \\nonumber \\\\\n",
    "\\Sigma(\\mathbf{X}_\\star) &= K_{\\mathbf{X}_\\star, \\mathbf{X}_\\star} - K_{\\mathbf{X}_\\star, \\mathbf{X}} \\widehat{K}_{\\mathbf{X},\\mathbf{X}}^{-1} K_{\\mathbf{X}_\\star, \\mathbf{X}}^\\top ~, \\nonumber\n",
    "\\end{align}\n",
    "where $\\widehat{K}_{\\mathbf{X},\\mathbf{X}} = K_{\\mathbf{X},\\mathbf{X}} + \\sigma^2 \\mathbf{I}$.\n",
    "\n",
    "\n",
    "More specifically, this requires solving $n \\times n$ systems of equations of the following form: \n",
    "<!-- \\begin{align}\n",
    "\\LARGE z = {\\widehat{K}_{\\mathbf{X},\\mathbf{X}} v}\n",
    "\\end{align} -->\n",
    "\\begin{align}\n",
    "\\LARGE {\\widehat{K}_{\\mathbf{X},\\mathbf{X}}} z = v\n",
    "\\end{align}\n",
    "which naively takes $\\mathcal{O}(n^3)$, thus limiting GP regression to generally no more than $\\mathcal{O}(10,000)$ data points. "
   ]
  },
  {
   "cell_type": "code",
   "execution_count": 2,
   "id": "12d3f93b",
   "metadata": {},
   "outputs": [],
   "source": [
    "device = torch.device(\"cuda:2\")\n",
    "dtype = torch.float"
   ]
  },
  {
   "cell_type": "markdown",
   "id": "ea5fbda3",
   "metadata": {},
   "source": [
    "## Iterative Gaussian Processes"
   ]
  },
  {
   "cell_type": "markdown",
   "id": "6f91af46",
   "metadata": {},
   "source": [
    "References for iterative GPs are:\n",
    "\n",
    "**Conjugate Gradients**\n",
    "- Cutajar et al, 2016: https://arxiv.org/abs/1602.06693\n",
    "- Gardner et al, NeurIPS, 2018: https://arxiv.org/abs/1809.11165\n",
    "- Wang et al, NeurIPS, 2019: https://arxiv.org/abs/1903.08114\n",
    "\n",
    "**Lanczos Decompositions**\n",
    "- Pleiss et al, ICML, 2018: https://arxiv.org/abs/1803.06058\n",
    "\n",
    "In general, Lanczos decompositions approximate the posterior covariance in the following format:\n",
    "\n",
    "\\begin{align}\n",
    "\\Sigma(\\mathbf{X}_\\star) &= K_{\\mathbf{X}_\\star, \\mathbf{X}_\\star} - K_{\\mathbf{X}_\\star, \\mathbf{X}} \\widehat{K}_{\\mathbf{X},\\mathbf{X}}^{-1} K_{\\mathbf{X}_\\star, \\mathbf{X}}^\\top \\\\\n",
    "&= K_{\\mathbf{X}_\\star, \\mathbf{X}_\\star} - K_{\\mathbf{X}_\\star, \\mathbf{X}} LL^\\top K_{\\mathbf{X}_\\star, \\mathbf{X}}^\\top,\n",
    "\\end{align}\n",
    "where $LL^\\top \\approx \\widehat{K}_{\\mathbf{X},\\mathbf{X}}^{-1}.$ The rank $r$ of the Lanczos decomposition tends to determine the performance of the approximation.\n",
    "\n",
    "Here, we use the sarcos problem from http://www.gaussianprocess.org/gpml/data/ and only consider one output testing out the generality of our findings.\n"
   ]
  },
  {
   "cell_type": "code",
   "execution_count": 4,
   "id": "4acf39b9",
   "metadata": {},
   "outputs": [],
   "source": [
    "import gpytorch\n",
    "\n",
    "# from bayesian_benchmarks.data import get_regression_data\n",
    "from botorch.models import SingleTaskGP\n",
    "from gpytorch.mlls import ExactMarginalLogLikelihood\n",
    "from gpytorch.kernels.keops import MaternKernel\n",
    "from gpytorch.kernels import ScaleKernel\n",
    "from gpytorch.priors import GammaPrior\n",
    "from botorch.models.transforms import Normalize, Standardize"
   ]
  },
  {
   "cell_type": "code",
   "execution_count": 5,
   "id": "ba325102",
   "metadata": {},
   "outputs": [],
   "source": [
    "from scipy.io import loadmat"
   ]
  },
  {
   "cell_type": "code",
   "execution_count": 6,
   "id": "56bdf47f",
   "metadata": {},
   "outputs": [],
   "source": [
    "data = loadmat(\"./sarcos_inv.mat\")"
   ]
  },
  {
   "cell_type": "code",
   "execution_count": 7,
   "id": "1d88f2d7",
   "metadata": {},
   "outputs": [
    {
     "data": {
      "text/plain": [
       "(44484, 28)"
      ]
     },
     "execution_count": 7,
     "metadata": {},
     "output_type": "execute_result"
    }
   ],
   "source": [
    "data[\"sarcos_inv\"].shape"
   ]
  },
  {
   "cell_type": "code",
   "execution_count": 8,
   "id": "5b29741b",
   "metadata": {},
   "outputs": [],
   "source": [
    "X_train = data[\"sarcos_inv\"][..., :-7]\n",
    "Y_train = data[\"sarcos_inv\"][..., -1].reshape(-1, 1)"
   ]
  },
  {
   "cell_type": "code",
   "execution_count": 27,
   "id": "c545ba6d",
   "metadata": {},
   "outputs": [],
   "source": [
    "from gpytorch.likelihoods import GaussianLikelihood"
   ]
  },
  {
   "cell_type": "code",
   "execution_count": 49,
   "id": "0122f360",
   "metadata": {},
   "outputs": [
    {
     "data": {
      "text/plain": [
       "GaussianLikelihood(\n",
       "  (noise_covar): HomoskedasticNoise(\n",
       "    (raw_noise_constraint): GreaterThan(1.000E-04)\n",
       "  )\n",
       ")"
      ]
     },
     "execution_count": 49,
     "metadata": {},
     "output_type": "execute_result"
    }
   ],
   "source": [
    "model = SingleTaskGP(\n",
    "    torch.tensor(X_train),\n",
    "    torch.tensor(Y_train),\n",
    "    covar_module = ScaleKernel(\n",
    "        MaternKernel(nu=2.5, lengthscale_prior=GammaPrior(3.0, 6.0)),\n",
    "        outputscale_prior=GammaPrior(2.0, 5.0),\n",
    "    ),\n",
    "    input_transform = Normalize(d=X_train.shape[-1]),\n",
    "    outcome_transform = Standardize(1),\n",
    "    likelihood = GaussianLikelihood()\n",
    ").to(device=device, dtype=dtype)\n",
    "\n",
    "model.train()\n",
    "model.likelihood.train()"
   ]
  },
  {
   "cell_type": "code",
   "execution_count": 50,
   "id": "1fb74d54",
   "metadata": {},
   "outputs": [],
   "source": [
    "from botorch.optim.fit import fit_gpytorch_torch"
   ]
  },
  {
   "cell_type": "code",
   "execution_count": 51,
   "id": "c6d6615e",
   "metadata": {},
   "outputs": [
    {
     "data": {
      "text/plain": [
       "tensor([0.6932], device='cuda:2', grad_fn=<AddBackward0>)"
      ]
     },
     "execution_count": 51,
     "metadata": {},
     "output_type": "execute_result"
    }
   ],
   "source": [
    "model.likelihood.noise"
   ]
  },
  {
   "cell_type": "code",
   "execution_count": 52,
   "id": "16ac5723",
   "metadata": {},
   "outputs": [],
   "source": [
    "mll = ExactMarginalLogLikelihood(model.likelihood, model)\n",
    "# optimizer = FullBatchLBFGS(model.parameters(), lr = 0.1)\n",
    "optimizer = torch.optim.Adam(model.parameters(), lr = 0.1)"
   ]
  },
  {
   "cell_type": "code",
   "execution_count": 54,
   "id": "a445a866",
   "metadata": {},
   "outputs": [
    {
     "name": "stdout",
     "output_type": "stream",
     "text": [
      "Iter 10/500: -1.0482332706451416\n"
     ]
    }
   ],
   "source": [
    "fit_gpytorch_torch(mll, options = {\"maxiter\": 500});"
   ]
  },
  {
   "cell_type": "code",
   "execution_count": 34,
   "id": "acce9e35",
   "metadata": {},
   "outputs": [
    {
     "name": "stdout",
     "output_type": "stream",
     "text": [
      "Step:  0 Loss:  1.1016426086425781\n",
      "Step:  5 Loss:  1.1019998788833618\n",
      "Step:  10 Loss:  1.1017699241638184\n",
      "Step:  15 Loss:  1.1019986867904663\n"
     ]
    },
    {
     "ename": "KeyboardInterrupt",
     "evalue": "",
     "output_type": "error",
     "traceback": [
      "\u001b[0;31m---------------------------------------------------------------------------\u001b[0m",
      "\u001b[0;31mKeyboardInterrupt\u001b[0m                         Traceback (most recent call last)",
      "\u001b[0;32m/tmp/ipykernel_51287/3867894884.py\u001b[0m in \u001b[0;36m<module>\u001b[0;34m\u001b[0m\n\u001b[1;32m      4\u001b[0m     \u001b[0moptimizer\u001b[0m\u001b[0;34m.\u001b[0m\u001b[0mzero_grad\u001b[0m\u001b[0;34m(\u001b[0m\u001b[0;34m)\u001b[0m\u001b[0;34m\u001b[0m\u001b[0;34m\u001b[0m\u001b[0m\n\u001b[1;32m      5\u001b[0m     \u001b[0;32mwith\u001b[0m \u001b[0mgpytorch\u001b[0m\u001b[0;34m.\u001b[0m\u001b[0msettings\u001b[0m\u001b[0;34m.\u001b[0m\u001b[0mcg_tolerance\u001b[0m\u001b[0;34m(\u001b[0m\u001b[0;36m0.1\u001b[0m\u001b[0;34m)\u001b[0m\u001b[0;34m:\u001b[0m\u001b[0;34m\u001b[0m\u001b[0;34m\u001b[0m\u001b[0m\n\u001b[0;32m----> 6\u001b[0;31m         \u001b[0mloss\u001b[0m \u001b[0;34m=\u001b[0m \u001b[0;34m-\u001b[0m\u001b[0mmll\u001b[0m\u001b[0;34m(\u001b[0m\u001b[0mmodel\u001b[0m\u001b[0;34m.\u001b[0m\u001b[0mlikelihood\u001b[0m\u001b[0;34m(\u001b[0m\u001b[0mmodel\u001b[0m\u001b[0;34m(\u001b[0m\u001b[0;34m*\u001b[0m\u001b[0mmodel\u001b[0m\u001b[0;34m.\u001b[0m\u001b[0mtrain_inputs\u001b[0m\u001b[0;34m)\u001b[0m\u001b[0;34m)\u001b[0m\u001b[0;34m,\u001b[0m \u001b[0mmodel\u001b[0m\u001b[0;34m.\u001b[0m\u001b[0mtrain_targets\u001b[0m\u001b[0;34m)\u001b[0m\u001b[0;34m.\u001b[0m\u001b[0msum\u001b[0m\u001b[0;34m(\u001b[0m\u001b[0;34m)\u001b[0m\u001b[0;34m\u001b[0m\u001b[0;34m\u001b[0m\u001b[0m\n\u001b[0m\u001b[1;32m      7\u001b[0m         \u001b[0;31m# return loss\u001b[0m\u001b[0;34m\u001b[0m\u001b[0;34m\u001b[0m\u001b[0;34m\u001b[0m\u001b[0m\n\u001b[1;32m      8\u001b[0m \u001b[0;34m\u001b[0m\u001b[0m\n",
      "\u001b[0;32m~/gpytorch/gpytorch/module.py\u001b[0m in \u001b[0;36m__call__\u001b[0;34m(self, *inputs, **kwargs)\u001b[0m\n\u001b[1;32m     28\u001b[0m \u001b[0;34m\u001b[0m\u001b[0m\n\u001b[1;32m     29\u001b[0m     \u001b[0;32mdef\u001b[0m \u001b[0m__call__\u001b[0m\u001b[0;34m(\u001b[0m\u001b[0mself\u001b[0m\u001b[0;34m,\u001b[0m \u001b[0;34m*\u001b[0m\u001b[0minputs\u001b[0m\u001b[0;34m,\u001b[0m \u001b[0;34m**\u001b[0m\u001b[0mkwargs\u001b[0m\u001b[0;34m)\u001b[0m\u001b[0;34m:\u001b[0m\u001b[0;34m\u001b[0m\u001b[0;34m\u001b[0m\u001b[0m\n\u001b[0;32m---> 30\u001b[0;31m         \u001b[0moutputs\u001b[0m \u001b[0;34m=\u001b[0m \u001b[0mself\u001b[0m\u001b[0;34m.\u001b[0m\u001b[0mforward\u001b[0m\u001b[0;34m(\u001b[0m\u001b[0;34m*\u001b[0m\u001b[0minputs\u001b[0m\u001b[0;34m,\u001b[0m \u001b[0;34m**\u001b[0m\u001b[0mkwargs\u001b[0m\u001b[0;34m)\u001b[0m\u001b[0;34m\u001b[0m\u001b[0;34m\u001b[0m\u001b[0m\n\u001b[0m\u001b[1;32m     31\u001b[0m         \u001b[0;32mif\u001b[0m \u001b[0misinstance\u001b[0m\u001b[0;34m(\u001b[0m\u001b[0moutputs\u001b[0m\u001b[0;34m,\u001b[0m \u001b[0mlist\u001b[0m\u001b[0;34m)\u001b[0m\u001b[0;34m:\u001b[0m\u001b[0;34m\u001b[0m\u001b[0;34m\u001b[0m\u001b[0m\n\u001b[1;32m     32\u001b[0m             \u001b[0;32mreturn\u001b[0m \u001b[0;34m[\u001b[0m\u001b[0m_validate_module_outputs\u001b[0m\u001b[0;34m(\u001b[0m\u001b[0moutput\u001b[0m\u001b[0;34m)\u001b[0m \u001b[0;32mfor\u001b[0m \u001b[0moutput\u001b[0m \u001b[0;32min\u001b[0m \u001b[0moutputs\u001b[0m\u001b[0;34m]\u001b[0m\u001b[0;34m\u001b[0m\u001b[0;34m\u001b[0m\u001b[0m\n",
      "\u001b[0;32m~/gpytorch/gpytorch/mlls/exact_marginal_log_likelihood.py\u001b[0m in \u001b[0;36mforward\u001b[0;34m(self, function_dist, target, *params)\u001b[0m\n\u001b[1;32m     60\u001b[0m         \u001b[0;31m# Get the log prob of the marginal distribution\u001b[0m\u001b[0;34m\u001b[0m\u001b[0;34m\u001b[0m\u001b[0;34m\u001b[0m\u001b[0m\n\u001b[1;32m     61\u001b[0m         \u001b[0moutput\u001b[0m \u001b[0;34m=\u001b[0m \u001b[0mself\u001b[0m\u001b[0;34m.\u001b[0m\u001b[0mlikelihood\u001b[0m\u001b[0;34m(\u001b[0m\u001b[0mfunction_dist\u001b[0m\u001b[0;34m,\u001b[0m \u001b[0;34m*\u001b[0m\u001b[0mparams\u001b[0m\u001b[0;34m)\u001b[0m\u001b[0;34m\u001b[0m\u001b[0;34m\u001b[0m\u001b[0m\n\u001b[0;32m---> 62\u001b[0;31m         \u001b[0mres\u001b[0m \u001b[0;34m=\u001b[0m \u001b[0moutput\u001b[0m\u001b[0;34m.\u001b[0m\u001b[0mlog_prob\u001b[0m\u001b[0;34m(\u001b[0m\u001b[0mtarget\u001b[0m\u001b[0;34m)\u001b[0m\u001b[0;34m\u001b[0m\u001b[0;34m\u001b[0m\u001b[0m\n\u001b[0m\u001b[1;32m     63\u001b[0m         \u001b[0mres\u001b[0m \u001b[0;34m=\u001b[0m \u001b[0mself\u001b[0m\u001b[0;34m.\u001b[0m\u001b[0m_add_other_terms\u001b[0m\u001b[0;34m(\u001b[0m\u001b[0mres\u001b[0m\u001b[0;34m,\u001b[0m \u001b[0mparams\u001b[0m\u001b[0;34m)\u001b[0m\u001b[0;34m\u001b[0m\u001b[0;34m\u001b[0m\u001b[0m\n\u001b[1;32m     64\u001b[0m \u001b[0;34m\u001b[0m\u001b[0m\n",
      "\u001b[0;32m~/gpytorch/gpytorch/distributions/multivariate_normal.py\u001b[0m in \u001b[0;36mlog_prob\u001b[0;34m(self, value)\u001b[0m\n\u001b[1;32m    167\u001b[0m         \u001b[0;31m# Get log determininant and first part of quadratic form\u001b[0m\u001b[0;34m\u001b[0m\u001b[0;34m\u001b[0m\u001b[0;34m\u001b[0m\u001b[0m\n\u001b[1;32m    168\u001b[0m         \u001b[0mcovar\u001b[0m \u001b[0;34m=\u001b[0m \u001b[0mcovar\u001b[0m\u001b[0;34m.\u001b[0m\u001b[0mevaluate_kernel\u001b[0m\u001b[0;34m(\u001b[0m\u001b[0;34m)\u001b[0m\u001b[0;34m\u001b[0m\u001b[0;34m\u001b[0m\u001b[0m\n\u001b[0;32m--> 169\u001b[0;31m         \u001b[0minv_quad\u001b[0m\u001b[0;34m,\u001b[0m \u001b[0mlogdet\u001b[0m \u001b[0;34m=\u001b[0m \u001b[0mcovar\u001b[0m\u001b[0;34m.\u001b[0m\u001b[0minv_quad_logdet\u001b[0m\u001b[0;34m(\u001b[0m\u001b[0minv_quad_rhs\u001b[0m\u001b[0;34m=\u001b[0m\u001b[0mdiff\u001b[0m\u001b[0;34m.\u001b[0m\u001b[0munsqueeze\u001b[0m\u001b[0;34m(\u001b[0m\u001b[0;34m-\u001b[0m\u001b[0;36m1\u001b[0m\u001b[0;34m)\u001b[0m\u001b[0;34m,\u001b[0m \u001b[0mlogdet\u001b[0m\u001b[0;34m=\u001b[0m\u001b[0;32mTrue\u001b[0m\u001b[0;34m)\u001b[0m\u001b[0;34m\u001b[0m\u001b[0;34m\u001b[0m\u001b[0m\n\u001b[0m\u001b[1;32m    170\u001b[0m \u001b[0;34m\u001b[0m\u001b[0m\n\u001b[1;32m    171\u001b[0m         \u001b[0mres\u001b[0m \u001b[0;34m=\u001b[0m \u001b[0;34m-\u001b[0m\u001b[0;36m0.5\u001b[0m \u001b[0;34m*\u001b[0m \u001b[0msum\u001b[0m\u001b[0;34m(\u001b[0m\u001b[0;34m[\u001b[0m\u001b[0minv_quad\u001b[0m\u001b[0;34m,\u001b[0m \u001b[0mlogdet\u001b[0m\u001b[0;34m,\u001b[0m \u001b[0mdiff\u001b[0m\u001b[0;34m.\u001b[0m\u001b[0msize\u001b[0m\u001b[0;34m(\u001b[0m\u001b[0;34m-\u001b[0m\u001b[0;36m1\u001b[0m\u001b[0;34m)\u001b[0m \u001b[0;34m*\u001b[0m \u001b[0mmath\u001b[0m\u001b[0;34m.\u001b[0m\u001b[0mlog\u001b[0m\u001b[0;34m(\u001b[0m\u001b[0;36m2\u001b[0m \u001b[0;34m*\u001b[0m \u001b[0mmath\u001b[0m\u001b[0;34m.\u001b[0m\u001b[0mpi\u001b[0m\u001b[0;34m)\u001b[0m\u001b[0;34m]\u001b[0m\u001b[0;34m)\u001b[0m\u001b[0;34m\u001b[0m\u001b[0;34m\u001b[0m\u001b[0m\n",
      "\u001b[0;32m~/gpytorch/gpytorch/lazy/lazy_tensor.py\u001b[0m in \u001b[0;36minv_quad_logdet\u001b[0;34m(self, inv_quad_rhs, logdet, reduce_inv_quad)\u001b[0m\n\u001b[1;32m   1300\u001b[0m             \u001b[0mprobe_vectors\u001b[0m\u001b[0;34m,\u001b[0m\u001b[0;34m\u001b[0m\u001b[0;34m\u001b[0m\u001b[0m\n\u001b[1;32m   1301\u001b[0m             \u001b[0mprobe_vector_norms\u001b[0m\u001b[0;34m,\u001b[0m\u001b[0;34m\u001b[0m\u001b[0;34m\u001b[0m\u001b[0m\n\u001b[0;32m-> 1302\u001b[0;31m             \u001b[0;34m*\u001b[0m\u001b[0margs\u001b[0m\u001b[0;34m,\u001b[0m\u001b[0;34m\u001b[0m\u001b[0;34m\u001b[0m\u001b[0m\n\u001b[0m\u001b[1;32m   1303\u001b[0m         )\n\u001b[1;32m   1304\u001b[0m \u001b[0;34m\u001b[0m\u001b[0m\n",
      "\u001b[0;32m~/gpytorch/gpytorch/functions/_inv_quad_log_det.py\u001b[0m in \u001b[0;36mforward\u001b[0;34m(ctx, representation_tree, dtype, device, matrix_shape, batch_shape, inv_quad, logdet, probe_vectors, probe_vector_norms, *args)\u001b[0m\n\u001b[1;32m     65\u001b[0m         \u001b[0mlazy_tsr\u001b[0m \u001b[0;34m=\u001b[0m \u001b[0mctx\u001b[0m\u001b[0;34m.\u001b[0m\u001b[0mrepresentation_tree\u001b[0m\u001b[0;34m(\u001b[0m\u001b[0;34m*\u001b[0m\u001b[0mmatrix_args\u001b[0m\u001b[0;34m)\u001b[0m\u001b[0;34m\u001b[0m\u001b[0;34m\u001b[0m\u001b[0m\n\u001b[1;32m     66\u001b[0m         \u001b[0;32mwith\u001b[0m \u001b[0mtorch\u001b[0m\u001b[0;34m.\u001b[0m\u001b[0mno_grad\u001b[0m\u001b[0;34m(\u001b[0m\u001b[0;34m)\u001b[0m\u001b[0;34m:\u001b[0m\u001b[0;34m\u001b[0m\u001b[0;34m\u001b[0m\u001b[0m\n\u001b[0;32m---> 67\u001b[0;31m             \u001b[0mpreconditioner\u001b[0m\u001b[0;34m,\u001b[0m \u001b[0mprecond_lt\u001b[0m\u001b[0;34m,\u001b[0m \u001b[0mlogdet_correction\u001b[0m \u001b[0;34m=\u001b[0m \u001b[0mlazy_tsr\u001b[0m\u001b[0;34m.\u001b[0m\u001b[0m_preconditioner\u001b[0m\u001b[0;34m(\u001b[0m\u001b[0;34m)\u001b[0m\u001b[0;34m\u001b[0m\u001b[0;34m\u001b[0m\u001b[0m\n\u001b[0m\u001b[1;32m     68\u001b[0m \u001b[0;34m\u001b[0m\u001b[0m\n\u001b[1;32m     69\u001b[0m         \u001b[0mctx\u001b[0m\u001b[0;34m.\u001b[0m\u001b[0mpreconditioner\u001b[0m \u001b[0;34m=\u001b[0m \u001b[0mpreconditioner\u001b[0m\u001b[0;34m\u001b[0m\u001b[0;34m\u001b[0m\u001b[0m\n",
      "\u001b[0;32m~/gpytorch/gpytorch/lazy/added_diag_lazy_tensor.py\u001b[0m in \u001b[0;36m_preconditioner\u001b[0;34m(self)\u001b[0m\n\u001b[1;32m     98\u001b[0m         \u001b[0;32mif\u001b[0m \u001b[0mself\u001b[0m\u001b[0;34m.\u001b[0m\u001b[0m_q_cache\u001b[0m \u001b[0;32mis\u001b[0m \u001b[0;32mNone\u001b[0m\u001b[0;34m:\u001b[0m\u001b[0;34m\u001b[0m\u001b[0;34m\u001b[0m\u001b[0m\n\u001b[1;32m     99\u001b[0m             \u001b[0mmax_iter\u001b[0m \u001b[0;34m=\u001b[0m \u001b[0msettings\u001b[0m\u001b[0;34m.\u001b[0m\u001b[0mmax_preconditioner_size\u001b[0m\u001b[0;34m.\u001b[0m\u001b[0mvalue\u001b[0m\u001b[0;34m(\u001b[0m\u001b[0;34m)\u001b[0m\u001b[0;34m\u001b[0m\u001b[0;34m\u001b[0m\u001b[0m\n\u001b[0;32m--> 100\u001b[0;31m             \u001b[0mself\u001b[0m\u001b[0;34m.\u001b[0m\u001b[0m_piv_chol_self\u001b[0m \u001b[0;34m=\u001b[0m \u001b[0mpivoted_cholesky\u001b[0m\u001b[0;34m.\u001b[0m\u001b[0mpivoted_cholesky\u001b[0m\u001b[0;34m(\u001b[0m\u001b[0mself\u001b[0m\u001b[0;34m.\u001b[0m\u001b[0m_lazy_tensor\u001b[0m\u001b[0;34m,\u001b[0m \u001b[0mmax_iter\u001b[0m\u001b[0;34m)\u001b[0m\u001b[0;34m\u001b[0m\u001b[0;34m\u001b[0m\u001b[0m\n\u001b[0m\u001b[1;32m    101\u001b[0m             \u001b[0;32mif\u001b[0m \u001b[0mtorch\u001b[0m\u001b[0;34m.\u001b[0m\u001b[0many\u001b[0m\u001b[0;34m(\u001b[0m\u001b[0mtorch\u001b[0m\u001b[0;34m.\u001b[0m\u001b[0misnan\u001b[0m\u001b[0;34m(\u001b[0m\u001b[0mself\u001b[0m\u001b[0;34m.\u001b[0m\u001b[0m_piv_chol_self\u001b[0m\u001b[0;34m)\u001b[0m\u001b[0;34m)\u001b[0m\u001b[0;34m.\u001b[0m\u001b[0mitem\u001b[0m\u001b[0;34m(\u001b[0m\u001b[0;34m)\u001b[0m\u001b[0;34m:\u001b[0m\u001b[0;34m\u001b[0m\u001b[0;34m\u001b[0m\u001b[0m\n\u001b[1;32m    102\u001b[0m                 warnings.warn(\n",
      "\u001b[0;32m~/gpytorch/gpytorch/utils/pivoted_cholesky.py\u001b[0m in \u001b[0;36mpivoted_cholesky\u001b[0;34m(matrix, max_iter, error_tol)\u001b[0m\n\u001b[1;32m     75\u001b[0m             \u001b[0;32mif\u001b[0m \u001b[0mm\u001b[0m \u001b[0;34m>\u001b[0m \u001b[0;36m0\u001b[0m\u001b[0;34m:\u001b[0m\u001b[0;34m\u001b[0m\u001b[0;34m\u001b[0m\u001b[0m\n\u001b[1;32m     76\u001b[0m                 \u001b[0mL_prev\u001b[0m \u001b[0;34m=\u001b[0m \u001b[0mL\u001b[0m\u001b[0;34m[\u001b[0m\u001b[0;34m...\u001b[0m\u001b[0;34m,\u001b[0m \u001b[0;34m:\u001b[0m\u001b[0mm\u001b[0m\u001b[0;34m,\u001b[0m \u001b[0;34m:\u001b[0m\u001b[0;34m]\u001b[0m\u001b[0;34m.\u001b[0m\u001b[0mgather\u001b[0m\u001b[0;34m(\u001b[0m\u001b[0;34m-\u001b[0m\u001b[0;36m1\u001b[0m\u001b[0;34m,\u001b[0m \u001b[0mpi_i\u001b[0m\u001b[0;34m.\u001b[0m\u001b[0munsqueeze\u001b[0m\u001b[0;34m(\u001b[0m\u001b[0;34m-\u001b[0m\u001b[0;36m2\u001b[0m\u001b[0;34m)\u001b[0m\u001b[0;34m.\u001b[0m\u001b[0mrepeat\u001b[0m\u001b[0;34m(\u001b[0m\u001b[0;34m*\u001b[0m\u001b[0;34m(\u001b[0m\u001b[0;36m1\u001b[0m \u001b[0;32mfor\u001b[0m \u001b[0m_\u001b[0m \u001b[0;32min\u001b[0m \u001b[0mbatch_shape\u001b[0m\u001b[0;34m)\u001b[0m\u001b[0;34m,\u001b[0m \u001b[0mm\u001b[0m\u001b[0;34m,\u001b[0m \u001b[0;36m1\u001b[0m\u001b[0;34m)\u001b[0m\u001b[0;34m)\u001b[0m\u001b[0;34m\u001b[0m\u001b[0;34m\u001b[0m\u001b[0m\n\u001b[0;32m---> 77\u001b[0;31m                 \u001b[0mupdate\u001b[0m \u001b[0;34m=\u001b[0m \u001b[0mL\u001b[0m\u001b[0;34m[\u001b[0m\u001b[0;34m...\u001b[0m\u001b[0;34m,\u001b[0m \u001b[0;34m:\u001b[0m\u001b[0mm\u001b[0m\u001b[0;34m,\u001b[0m \u001b[0;34m:\u001b[0m\u001b[0;34m]\u001b[0m\u001b[0;34m.\u001b[0m\u001b[0mgather\u001b[0m\u001b[0;34m(\u001b[0m\u001b[0;34m-\u001b[0m\u001b[0;36m1\u001b[0m\u001b[0;34m,\u001b[0m \u001b[0mpi_m\u001b[0m\u001b[0;34m.\u001b[0m\u001b[0mview\u001b[0m\u001b[0;34m(\u001b[0m\u001b[0;34m*\u001b[0m\u001b[0mpi_m\u001b[0m\u001b[0;34m.\u001b[0m\u001b[0mshape\u001b[0m\u001b[0;34m,\u001b[0m \u001b[0;36m1\u001b[0m\u001b[0;34m,\u001b[0m \u001b[0;36m1\u001b[0m\u001b[0;34m)\u001b[0m\u001b[0;34m.\u001b[0m\u001b[0mrepeat\u001b[0m\u001b[0;34m(\u001b[0m\u001b[0;34m*\u001b[0m\u001b[0;34m(\u001b[0m\u001b[0;36m1\u001b[0m \u001b[0;32mfor\u001b[0m \u001b[0m_\u001b[0m \u001b[0;32min\u001b[0m \u001b[0mbatch_shape\u001b[0m\u001b[0;34m)\u001b[0m\u001b[0;34m,\u001b[0m \u001b[0mm\u001b[0m\u001b[0;34m,\u001b[0m \u001b[0;36m1\u001b[0m\u001b[0;34m)\u001b[0m\u001b[0;34m)\u001b[0m\u001b[0;34m\u001b[0m\u001b[0;34m\u001b[0m\u001b[0m\n\u001b[0m\u001b[1;32m     78\u001b[0m                 \u001b[0mL_m_new\u001b[0m \u001b[0;34m-=\u001b[0m \u001b[0mtorch\u001b[0m\u001b[0;34m.\u001b[0m\u001b[0msum\u001b[0m\u001b[0;34m(\u001b[0m\u001b[0mupdate\u001b[0m \u001b[0;34m*\u001b[0m \u001b[0mL_prev\u001b[0m\u001b[0;34m,\u001b[0m \u001b[0mdim\u001b[0m\u001b[0;34m=\u001b[0m\u001b[0;34m-\u001b[0m\u001b[0;36m2\u001b[0m\u001b[0;34m)\u001b[0m\u001b[0;34m\u001b[0m\u001b[0;34m\u001b[0m\u001b[0m\n\u001b[1;32m     79\u001b[0m \u001b[0;34m\u001b[0m\u001b[0m\n",
      "\u001b[0;31mKeyboardInterrupt\u001b[0m: "
     ]
    }
   ],
   "source": [
    "high_tol_time = []\n",
    "for i in range(50):\n",
    "    # def closure():\n",
    "    optimizer.zero_grad()\n",
    "    with gpytorch.settings.cg_tolerance(0.1):\n",
    "        loss = -mll(model.likelihood(model(*model.train_inputs)), model.train_targets).sum()\n",
    "        # return loss\n",
    "    \n",
    "    start = time.time()\n",
    "#     loss = closure()\n",
    "    \n",
    "    # optimizer.step({\"closure\": closure, \"current_loss\": loss})\n",
    "    optimizer.step()\n",
    "    end = time.time()\n",
    "    high_tol_time.append(end - start)\n",
    "    \n",
    "    if i % 5 == 0:\n",
    "        print(\"Step: \", i, \"Loss: \", loss.item())"
   ]
  },
  {
   "cell_type": "code",
   "execution_count": 41,
   "id": "036e06c0",
   "metadata": {},
   "outputs": [
    {
     "data": {
      "text/plain": [
       "tensor([0.1559], device='cuda:2', grad_fn=<AddBackward0>)"
      ]
     },
     "execution_count": 41,
     "metadata": {},
     "output_type": "execute_result"
    }
   ],
   "source": [
    "model.likelihood.noise"
   ]
  },
  {
   "cell_type": "code",
   "execution_count": 42,
   "id": "ca13bddd",
   "metadata": {},
   "outputs": [
    {
     "name": "stdout",
     "output_type": "stream",
     "text": [
      "Total Time:  2.1596749623616535e-05\n"
     ]
    }
   ],
   "source": [
    "print(\"Total Time: \", sum(high_tol_time) / 60)"
   ]
  },
  {
   "cell_type": "code",
   "execution_count": 43,
   "id": "40b0fc2d",
   "metadata": {},
   "outputs": [],
   "source": [
    "test_data = loadmat(\"./sarcos_inv_test.mat\")\n",
    "X_test= test_data[\"sarcos_inv_test\"][..., :-7]\n",
    "Y_test = test_data[\"sarcos_inv_test\"][..., -1].reshape(-1, 1)"
   ]
  },
  {
   "cell_type": "code",
   "execution_count": 44,
   "id": "32725826",
   "metadata": {},
   "outputs": [],
   "source": [
    "with torch.no_grad():\n",
    "    posterior = model.posterior(\n",
    "        torch.tensor(X_test, device=device, dtype=dtype)\n",
    "    )"
   ]
  },
  {
   "cell_type": "code",
   "execution_count": 46,
   "id": "2b4d9ff5",
   "metadata": {},
   "outputs": [
    {
     "name": "stdout",
     "output_type": "stream",
     "text": [
      "tensor(0.0317, dtype=torch.float64)\n",
      "tensor(0.4151, device='cuda:2', grad_fn=<NegBackward0>)\n"
     ]
    }
   ],
   "source": [
    "mse = torch.mean((posterior.mean.cpu() - torch.tensor(Y_test))**2)\n",
    "print(mse)\n",
    "\n",
    "nll = -torch.distributions.Normal(\n",
    "    posterior.mean, posterior.variance**0.5\n",
    ").log_prob(torch.tensor(Y_test, device=device, dtype=dtype)).mean()\n",
    "print(nll)"
   ]
  },
  {
   "cell_type": "markdown",
   "id": "6395b8d3",
   "metadata": {},
   "source": [
    "### Investigating the Predictive Variances"
   ]
  },
  {
   "cell_type": "markdown",
   "id": "dfc3145f",
   "metadata": {},
   "source": [
    "- Kapoor et al, ICML '21 https://arxiv.org/abs/2106.06695\n",
    "- Sun et al, ICML '21 https://arxiv.org/abs/2106.05992\n",
    "- Potapczynski et al, ICML, '21 https://arxiv.org/abs/2102.06695"
   ]
  },
  {
   "cell_type": "code",
   "execution_count": 47,
   "id": "94fdf486",
   "metadata": {},
   "outputs": [
    {
     "data": {
      "text/plain": [
       "(array([415., 531., 833., 768., 554., 434., 396., 293., 179.,  46.]),\n",
       " array([0.0530681 , 0.13798054, 0.22289297, 0.3078054 , 0.39271784,\n",
       "        0.47763026, 0.5625427 , 0.6474551 , 0.7323676 , 0.81728   ,\n",
       "        0.9021924 ], dtype=float32),\n",
       " <BarContainer object of 10 artists>)"
      ]
     },
     "execution_count": 47,
     "metadata": {},
     "output_type": "execute_result"
    },
    {
     "data": {
      "image/png": "[encoded data removed]",
      "text/plain": [
       "<Figure size 432x288 with 1 Axes>"
      ]
     },
     "metadata": {
      "needs_background": "light"
     },
     "output_type": "display_data"
    }
   ],
   "source": [
    "import matplotlib.pyplot as plt\n",
    "\n",
    "plt.hist(posterior.variance.cpu().detach().numpy())"
   ]
  },
  {
   "cell_type": "markdown",
   "id": "42a087d9",
   "metadata": {},
   "source": [
    "While the MSE is pretty small, the NLL is much lower than the MSE would natively suggest. Indeed, investigating the NLL, we can immediately spot what's going on: \n",
    "\n",
    "\\begin{align}\n",
    "\\LARGE \\mathrm{NLL}(\\sigma^2) := \\frac{1}{2}\\log \\sigma^2 + \\frac{1}{2\\sigma^2}(\\mu - y)^2~,\n",
    "\\end{align}"
   ]
  },
  {
   "cell_type": "code",
   "execution_count": 20,
   "id": "a02e2b31",
   "metadata": {},
   "outputs": [
    {
     "name": "stdout",
     "output_type": "stream",
     "text": [
      "[pyKeOps] Compiling libKeOpstorchd7a2495f4c in /home/wesley_m/.cache/pykeops-1.5-cpython-37:\n",
      "       formula: Sum_Reduction(((((Var(2,1,2) * Sqrt(Sum(Square((Var(0,21,0) - Var(1,21,1)))))) + (IntCst(1) + (Var(3,1,2) * Square(Sqrt(Sum(Square((Var(0,21,0) - Var(1,21,1))))))))) * Exp((Var(4,1,2) * Sqrt(Sum(Square((Var(0,21,0) - Var(1,21,1)))))))) * Var(5,10,1)),0)\n",
      "       aliases: Var(0,21,0); Var(1,21,1); Var(2,1,2); Var(3,1,2); Var(4,1,2); Var(5,10,1); \n",
      "       dtype  : float32\n",
      "... \n",
      "Done.\n",
      "[pyKeOps] Compiling libKeOpstorche2dcfbde2e in /home/wesley_m/.cache/pykeops-1.5-cpython-37:\n",
      "       formula: Sum_Reduction(((((Var(2,1,2) * Sqrt(Sum(Square((Var(0,21,0) - Var(1,21,1)))))) + (IntCst(1) + (Var(3,1,2) * Square(Sqrt(Sum(Square((Var(0,21,0) - Var(1,21,1))))))))) * Exp((Var(4,1,2) * Sqrt(Sum(Square((Var(0,21,0) - Var(1,21,1)))))))) * Var(5,50,1)),0)\n",
      "       aliases: Var(0,21,0); Var(1,21,1); Var(2,1,2); Var(3,1,2); Var(4,1,2); Var(5,50,1); \n",
      "       dtype  : float32\n",
      "... \n",
      "Done.\n",
      "[pyKeOps] Compiling libKeOpstorch7dc83f1953 in /home/wesley_m/.cache/pykeops-1.5-cpython-37:\n",
      "       formula: Sum_Reduction(((((Var(2,1,2) * Sqrt(Sum(Square((Var(0,21,0) - Var(1,21,1)))))) + (IntCst(1) + (Var(3,1,2) * Square(Sqrt(Sum(Square((Var(0,21,0) - Var(1,21,1))))))))) * Exp((Var(4,1,2) * Sqrt(Sum(Square((Var(0,21,0) - Var(1,21,1)))))))) * Var(5,1000,1)),0)\n",
      "       aliases: Var(0,21,0); Var(1,21,1); Var(2,1,2); Var(3,1,2); Var(4,1,2); Var(5,1000,1); \n",
      "       dtype  : float32\n",
      "... \n",
      "Done.\n",
      "[pyKeOps] Compiling libKeOpstorchea6fe84acc in /home/wesley_m/.cache/pykeops-1.5-cpython-37:\n",
      "       formula: Sum_Reduction(((((Var(2,1,2) * Sqrt(Sum(Square((Var(0,21,0) - Var(1,21,1)))))) + (IntCst(1) + (Var(3,1,2) * Square(Sqrt(Sum(Square((Var(0,21,0) - Var(1,21,1))))))))) * Exp((Var(4,1,2) * Sqrt(Sum(Square((Var(0,21,0) - Var(1,21,1)))))))) * Var(5,5000,1)),0)\n",
      "       aliases: Var(0,21,0); Var(1,21,1); Var(2,1,2); Var(3,1,2); Var(4,1,2); Var(5,5000,1); \n",
      "       dtype  : float32\n",
      "... \n",
      "Done.\n",
      "[pyKeOps] Compiling libKeOpstorchabf94c9d56 in /home/wesley_m/.cache/pykeops-1.5-cpython-37:\n",
      "       formula: Sum_Reduction(((((Var(2,1,2) * Sqrt(Sum(Square((Var(0,21,0) - Var(1,21,1)))))) + (IntCst(1) + (Var(3,1,2) * Square(Sqrt(Sum(Square((Var(0,21,0) - Var(1,21,1))))))))) * Exp((Var(4,1,2) * Sqrt(Sum(Square((Var(0,21,0) - Var(1,21,1)))))))) * Var(5,10000,1)),0)\n",
      "       aliases: Var(0,21,0); Var(1,21,1); Var(2,1,2); Var(3,1,2); Var(4,1,2); Var(5,10000,1); \n",
      "       dtype  : float32\n",
      "... \n",
      "Done.\n"
     ]
    }
   ],
   "source": [
    "rank_test = [10, 50, 100, 1000, 5000, 10000]\n",
    "nll_rank_list = []\n",
    "\n",
    "for rank in rank_test:\n",
    "    model.train() # to clear any caches\n",
    "    with gpytorch.settings.max_root_decomposition_size(rank):\n",
    "        posterior = model.posterior(\n",
    "            torch.tensor(X_test, device=device, dtype=dtype)\n",
    "        )\n",
    "        nll = torch.distributions.Normal(\n",
    "            posterior.mean, \n",
    "            posterior.variance**0.5\n",
    "        ).log_prob(\n",
    "            torch.tensor(Y_test, device=device, dtype=dtype)\n",
    "        ).mean()\n",
    "        nll_rank_list.append(nll)"
   ]
  },
  {
   "cell_type": "code",
   "execution_count": 54,
   "id": "390638a4",
   "metadata": {},
   "outputs": [
    {
     "data": {
      "text/plain": [
       "Text(0.5, 1.0, 'Entire Test Set')"
      ]
     },
     "execution_count": 54,
     "metadata": {},
     "output_type": "execute_result"
    },
    {
     "data": {
      "image/png": "[encoded data removed]",
      "text/plain": [
       "<Figure size 1152x360 with 2 Axes>"
      ]
     },
     "metadata": {
      "needs_background": "light"
     },
     "output_type": "display_data"
    }
   ],
   "source": [
    "fig, ax = plt.subplots(1, 2, figsize = (16, 5))\n",
    "\n",
    "var_range = torch.linspace(0.001, 1.0, 1000)\n",
    "ax[0].plot(\n",
    "    var_range, \n",
    "    0.5 * (var_range.log() + mse.cpu().detach() / var_range), \n",
    "    linewidth = 4\n",
    ")\n",
    "ax[0].axvline(mse.cpu().detach(), color = \"purple\", linewidth = 4, label = \"MSE\")\n",
    "ax[0].legend(fontsize = 20)\n",
    "ax[0].semilogx()\n",
    "ax[0].set_xlabel(\"Variance\", fontsize = 20)\n",
    "ax[0].set_ylabel(\"Test NLL\", fontsize = 20)\n",
    "ax[0].grid()\n",
    "\n",
    "ax[0].set_title(\"Single Data Point\", fontsize = 20)\n",
    "\n",
    "ax[1].plot(\n",
    "    rank_test, \n",
    "    [x.detach().cpu() for x in nll_rank_list], \n",
    "    marker = \".\", \n",
    "    markersize = 20\n",
    ")\n",
    "ax[1].semilogx()\n",
    "ax[1].set_xlabel(\"Root Decomposition Size\", fontsize = 20)\n",
    "ax[1].set_ylabel(\"Test NLL\", fontsize = 20)\n",
    "ax[1].grid()\n",
    "ax[1].set_title(\"Entire Test Set\", fontsize = 20)\n"
   ]
  },
  {
   "cell_type": "markdown",
   "id": "85a986e7",
   "metadata": {},
   "source": [
    "### Investigating the Predictive Means\n",
    "\n",
    "Finally, we close by demonstrating the effect of the predictive means using the conjugate gradients tolerance threshold."
   ]
  },
  {
   "cell_type": "code",
   "execution_count": 51,
   "id": "5a7eb052",
   "metadata": {},
   "outputs": [],
   "source": [
    "from gpytorch.distributions import MultivariateNormal\n",
    "\n",
    "def mock_predictive_mean(test_X):\n",
    "    # faked mean cache\n",
    "    model.input_transform.eval()\n",
    "    test_X = model.input_transform(test_X)\n",
    "    train_X = model.input_transform(*model.train_inputs)\n",
    "    \n",
    "    model.train()\n",
    "    prior = MultivariateNormal(model.mean_module(train_X), model.covar_module(train_X))\n",
    "    train_dist = model.likelihood(prior)\n",
    "    train_mean, train_train_covar = train_dist.loc, train_dist.lazy_covariance_matrix\n",
    "    train_labels_offset = (\n",
    "        model.train_targets - train_mean\n",
    "    ).unsqueeze(-1)\n",
    "    \n",
    "    # compute z = \\hat K^{-1} (y - \\mu)\n",
    "    mean_cache = train_train_covar.evaluate_kernel().inv_matmul(\n",
    "        train_labels_offset\n",
    "    ).squeeze(-1)\n",
    "    \n",
    "\n",
    "\n",
    "    # compute K_{test, train} z\n",
    "    test_train_covar = model.covar_module(test_X, train_X)\n",
    "    test_pred_zero_mean = test_train_covar.matmul(mean_cache)\n",
    "    \n",
    "    return train_dist.loc[0] * torch.ones_like(\n",
    "        test_pred_zero_mean\n",
    "    ) + test_pred_zero_mean"
   ]
  },
  {
   "cell_type": "code",
   "execution_count": 52,
   "id": "5b497f09",
   "metadata": {},
   "outputs": [],
   "source": [
    "cg_test = [1.0, 0.25, 0.1, 0.01, 0.001, 0.0001, 0.00001]\n",
    "mse_tol_list = []\n",
    "\n",
    "# we iterate over the set of cg tolerances\n",
    "for tol in cg_test:\n",
    "    with gpytorch.settings.cg_tolerance(tol), \\\n",
    "        gpytorch.settings.skip_posterior_variances(True):\n",
    "        mocked_mean = mock_predictive_mean(\n",
    "            torch.tensor(X_test, device=device, dtype=dtype)\n",
    "        )\n",
    "        mean_untrans = mocked_mean.unsqueeze(-1)\n",
    "        model.outcome_transform.eval()\n",
    "        mean_trans, _ = model.outcome_transform.untransform(mean_untrans)\n",
    "        mse = torch.mean(\n",
    "            (mean_trans.cpu() - \\\n",
    "             torch.tensor(Y_test)\n",
    "        )**2).detach()\n",
    "    mse_tol_list.append(mse)"
   ]
  },
  {
   "cell_type": "code",
   "execution_count": 53,
   "id": "55d0bdce",
   "metadata": {},
   "outputs": [
    {
     "data": {
      "image/png": "[encoded data removed]",
      "text/plain": [
       "<Figure size 432x288 with 1 Axes>"
      ]
     },
     "metadata": {
      "needs_background": "light"
     },
     "output_type": "display_data"
    }
   ],
   "source": [
    "plt.plot(cg_test, mse_tol_list, marker = \".\", markersize = 20)\n",
    "plt.semilogx()\n",
    "\n",
    "plt.xlabel(\"CG Tolerance\", fontsize = 20)\n",
    "plt.ylabel(\"Test MSE\", fontsize = 20)\n",
    "plt.grid()"
   ]
  },
  {
   "cell_type": "code",
   "execution_count": 55,
   "id": "52fa16b2",
   "metadata": {},
   "outputs": [
    {
     "data": {
      "text/plain": [
       "Parameter containing:\n",
       "tensor([2.0000], device='cuda:2', requires_grad=True)"
      ]
     },
     "execution_count": 55,
     "metadata": {},
     "output_type": "execute_result"
    }
   ],
   "source": [
    "model.likelihood.noise"
   ]
  },
  {
   "cell_type": "code",
   "execution_count": 65,
   "id": "b96d5f1e",
   "metadata": {},
   "outputs": [
    {
     "data": {
      "text/plain": [
       "<ErrorbarContainer object of 3 artists>"
      ]
     },
     "execution_count": 65,
     "metadata": {},
     "output_type": "execute_result"
    },
    {
     "data": {
      "image/png": "[encoded data removed]",
      "text/plain": [
       "<Figure size 432x288 with 1 Axes>"
      ]
     },
     "metadata": {
      "needs_background": "light"
     },
     "output_type": "display_data"
    }
   ],
   "source": [
    "plt.errorbar(Y_test, posterior.mean.cpu().detach().view(-1).numpy(), \n",
    "             yerr=posterior.variance.cpu().detach().pow(0.5).view(-1) * 2,\n",
    "            ls = \"none\", marker = \"x\", alpha = 0.2)"
   ]
  },
  {
   "cell_type": "code",
   "execution_count": 61,
   "id": "7d0b194b",
   "metadata": {},
   "outputs": [
    {
     "data": {
      "text/plain": [
       "tensor(0.1337)"
      ]
     },
     "execution_count": 61,
     "metadata": {},
     "output_type": "execute_result"
    }
   ],
   "source": [
    "posterior.variance.cpu().detach().pow(0.5).view(-1).min()"
   ]
  },
  {
   "cell_type": "code",
   "execution_count": 63,
   "id": "20cc26ba",
   "metadata": {},
   "outputs": [
    {
     "data": {
      "text/plain": [
       "11.27683"
      ]
     },
     "execution_count": 63,
     "metadata": {},
     "output_type": "execute_result"
    }
   ],
   "source": [
    "Y_test.max()"
   ]
  },
  {
   "cell_type": "code",
   "execution_count": null,
   "id": "436180c3",
   "metadata": {},
   "outputs": [],
   "source": []
  }
 ],
 "metadata": {
  "kernelspec": {
   "display_name": "Python 3 (ipykernel)",
   "language": "python",
   "name": "python3"
  },
  "language_info": {
   "codemirror_mode": {
    "name": "ipython",
    "version": 3
   },
   "file_extension": ".py",
   "mimetype": "text/x-python",
   "name": "python",
   "nbconvert_exporter": "python",
   "pygments_lexer": "ipython3",
   "version": "3.9.0"
  }
 },
 "nbformat": 4,
 "nbformat_minor": 5
}
