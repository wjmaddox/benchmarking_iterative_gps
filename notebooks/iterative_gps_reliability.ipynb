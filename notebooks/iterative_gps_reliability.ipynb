{
 "cells": [
  {
   "cell_type": "markdown",
   "id": "f0b62b8e",
   "metadata": {},
   "source": [
    "## \"When are Iterative Gaussian Processes Reliably Accurate?\"\n",
    "\n",
    "by Wesley Maddox, Sanyam Kapoor, Andrew Gordon Wilson\n",
    "\n",
    "*Beyond First-Order Methods in ML Workshop at ICML 2021*: https://sites.google.com/view/optml-icml2021/accepted-papers?authuser=0\n",
    "\n",
    "Local link: https://wjmaddox.github.io/assets/iterative_gps_optml.pdf"
   ]
  },
  {
   "cell_type": "code",
   "execution_count": 1,
   "id": "588ee0ff",
   "metadata": {},
   "outputs": [],
   "source": [
    "import torch\n",
    "\n",
    "import time\n",
    "\n",
    "import sys\n",
    "sys.path.append(\"/home/wesley_m/PyTorch-LBFGS/functions\")\n",
    "from LBFGS import FullBatchLBFGS\n",
    "\n"
   ]
  },
  {
   "cell_type": "markdown",
   "id": "dc71d9f7",
   "metadata": {},
   "source": [
    "## Gaussian Process Intro\n",
    "\n",
    "\\begin{align}\n",
    "f \\sim \\mathcal{GP}(\\mu_\\theta, k_\\theta(\\mathbf{X}, \\mathbf{X}))\n",
    "\\end{align}\n",
    "\\begin{align}\n",
    "y \\sim \\mathcal{N}(f, \\sigma^2 I)\n",
    "\\end{align}\n",
    "\n",
    "While extremely flexible models, the catch with GPs is that the kernel function induces a matrix of size $n \\times n$ that must be inverted for GP prediction and training.\n",
    "\n",
    "Predictive equations:\n",
    "\\begin{align}\n",
    "p(f(\\mathbf{X}_\\star) \\mid \\mathbf{X}_\\star,& \\mathcal{D}, \\theta) = \\mathcal{N}(\\mu(\\mathbf{X}_\\star), \\Sigma(\\mathbf{X}_\\star)), \\label{eq:gp_post} \\\\\n",
    "\\mu(\\mathbf{X}_\\star) &= K_{\\mathbf{X}_\\star, \\mathbf{X}} \\widehat{K}_{\\mathbf{X},\\mathbf{X}}^{-1} \\mathbf{y}~, \\nonumber \\\\\n",
    "\\Sigma(\\mathbf{X}_\\star) &= K_{\\mathbf{X}_\\star, \\mathbf{X}_\\star} - K_{\\mathbf{X}_\\star, \\mathbf{X}} \\widehat{K}_{\\mathbf{X},\\mathbf{X}}^{-1} K_{\\mathbf{X}_\\star, \\mathbf{X}}^\\top ~, \\nonumber\n",
    "\\end{align}\n",
    "where $\\widehat{K}_{\\mathbf{X},\\mathbf{X}} = K_{\\mathbf{X},\\mathbf{X}} + \\sigma^2 \\mathbf{I}$.\n",
    "\n",
    "\n",
    "More specifically, this requires solving $n \\times n$ systems of equations of the following form: \n",
    "<!-- \\begin{align}\n",
    "\\LARGE z = {\\widehat{K}_{\\mathbf{X},\\mathbf{X}} v}\n",
    "\\end{align} -->\n",
    "\\begin{align}\n",
    "\\LARGE {\\widehat{K}_{\\mathbf{X},\\mathbf{X}}} z = v\n",
    "\\end{align}\n",
    "which naively takes $\\mathcal{O}(n^3)$, thus limiting GP regression to generally no more than $\\mathcal{O}(10,000)$ data points. "
   ]
  },
  {
   "cell_type": "code",
   "execution_count": 2,
   "id": "12d3f93b",
   "metadata": {},
   "outputs": [],
   "source": [
    "device = torch.device(\"cuda:0\")\n",
    "dtype = torch.float"
   ]
  },
  {
   "cell_type": "markdown",
   "id": "ea5fbda3",
   "metadata": {},
   "source": [
    "## Iterative Gaussian Processes"
   ]
  },
  {
   "cell_type": "markdown",
   "id": "6f91af46",
   "metadata": {},
   "source": [
    "\n",
    "**Conjugate Gradients**\n",
    "- Cutajar et al, 2016: https://arxiv.org/abs/1602.06693\n",
    "- Gardner et al, NeurIPS, 2018: https://arxiv.org/abs/1809.11165\n",
    "- Wang et al, NeurIPS, 2019: https://arxiv.org/abs/1903.08114\n",
    "\n",
    "**Lanczos Decompositions**\n",
    "- Pleiss et al, ICML, 2018: https://arxiv.org/abs/1803.06058\n",
    "\\begin{align}\n",
    "\\Sigma(\\mathbf{X}_\\star) &= K_{\\mathbf{X}_\\star, \\mathbf{X}_\\star} - K_{\\mathbf{X}_\\star, \\mathbf{X}} \\widehat{K}_{\\mathbf{X},\\mathbf{X}}^{-1} K_{\\mathbf{X}_\\star, \\mathbf{X}}^\\top \\\\\n",
    "&= K_{\\mathbf{X}_\\star, \\mathbf{X}_\\star} - K_{\\mathbf{X}_\\star, \\mathbf{X}} LL^\\top K_{\\mathbf{X}_\\star, \\mathbf{X}}^\\top,\n",
    "\\end{align}\n",
    "where $LL^\\top \\approx \\widehat{K}_{\\mathbf{X},\\mathbf{X}}^{-1}.$ The rank $r$ of the Lanczos decomposition tends to determine the performance of the approximation.\n"
   ]
  },
  {
   "cell_type": "code",
   "execution_count": 3,
   "id": "4acf39b9",
   "metadata": {},
   "outputs": [],
   "source": [
    "import gpytorch\n",
    "\n",
    "from bayesian_benchmarks.data import get_regression_data\n",
    "from botorch.models import SingleTaskGP\n",
    "from gpytorch.mlls import ExactMarginalLogLikelihood\n",
    "from gpytorch.kernels.keops import MaternKernel\n",
    "from gpytorch.kernels import ScaleKernel\n",
    "from gpytorch.priors import GammaPrior"
   ]
  },
  {
   "cell_type": "code",
   "execution_count": 4,
   "id": "56bdf47f",
   "metadata": {},
   "outputs": [],
   "source": [
    "data = get_regression_data(\"wilson_keggundirected\")"
   ]
  },
  {
   "cell_type": "code",
   "execution_count": 5,
   "id": "1d88f2d7",
   "metadata": {},
   "outputs": [
    {
     "data": {
      "text/plain": [
       "(57247, 27)"
      ]
     },
     "execution_count": 5,
     "metadata": {},
     "output_type": "execute_result"
    }
   ],
   "source": [
    "data.X_train.shape"
   ]
  },
  {
   "cell_type": "code",
   "execution_count": 6,
   "id": "0122f360",
   "metadata": {},
   "outputs": [],
   "source": [
    "model = SingleTaskGP(\n",
    "    torch.tensor(data.X_train),\n",
    "    torch.tensor(data.Y_train),\n",
    "    covar_module = ScaleKernel(\n",
    "        MaternKernel(nu=2.5, lengthscale_prior=GammaPrior(3.0, 6.0)),\n",
    "        outputscale_prior=GammaPrior(2.0, 5.0),\n",
    "    )\n",
    ").to(device=device, dtype=dtype)"
   ]
  },
  {
   "cell_type": "code",
   "execution_count": 7,
   "id": "16ac5723",
   "metadata": {},
   "outputs": [],
   "source": [
    "mll = ExactMarginalLogLikelihood(model.likelihood, model)\n",
    "optimizer = FullBatchLBFGS(model.parameters(), lr = 1.0)"
   ]
  },
  {
   "cell_type": "code",
   "execution_count": 8,
   "id": "acce9e35",
   "metadata": {},
   "outputs": [
    {
     "name": "stderr",
     "output_type": "stream",
     "text": [
      "/home/wesley_m/PyTorch-LBFGS/functions/LBFGS.py:257: UserWarning: This overload of add_ is deprecated:\n",
      "\tadd_(Number alpha, Tensor other)\n",
      "Consider using one of the following signatures instead:\n",
      "\tadd_(Tensor other, *, Number alpha) (Triggered internally at  /opt/conda/conda-bld/pytorch_1616554800319/work/torch/csrc/utils/python_arg_parser.cpp:1005.)\n",
      "  p.data.add_(step_size, update[offset:offset + numel].view_as(p.data))\n"
     ]
    },
    {
     "name": "stdout",
     "output_type": "stream",
     "text": [
      "Step:  0 Loss:  1.3389778137207031\n",
      "Step:  5 Loss:  1.3386880159378052\n",
      "Step:  10 Loss:  1.3389846086502075\n",
      "Step:  15 Loss:  1.3383740186691284\n",
      "Step:  20 Loss:  1.3391427993774414\n",
      "Step:  25 Loss:  1.3385124206542969\n",
      "Step:  30 Loss:  1.3386677503585815\n",
      "Step:  35 Loss:  1.338518738746643\n",
      "Step:  40 Loss:  1.3386945724487305\n",
      "Step:  45 Loss:  1.3385530710220337\n"
     ]
    }
   ],
   "source": [
    "high_tol_time = []\n",
    "for i in range(50):\n",
    "    def closure():\n",
    "        optimizer.zero_grad()\n",
    "        with gpytorch.settings.cg_tolerance(0.1):\n",
    "            loss = -mll(model(*model.train_inputs), model.train_targets).sum()\n",
    "        return loss\n",
    "    \n",
    "    start = time.time()\n",
    "    loss = closure()\n",
    "    \n",
    "    optimizer.step({\"closure\": closure, \"current_loss\": loss})\n",
    "    end = time.time()\n",
    "    high_tol_time.append(end - start)\n",
    "    \n",
    "    if i % 5 == 0:\n",
    "        print(\"Step: \", i, \"Loss: \", loss.item())"
   ]
  },
  {
   "cell_type": "code",
   "execution_count": 20,
   "id": "ca13bddd",
   "metadata": {},
   "outputs": [
    {
     "name": "stdout",
     "output_type": "stream",
     "text": [
      "Total Time:  4.534620594978333\n"
     ]
    }
   ],
   "source": [
    "print(\"Total Time: \", sum(high_tol_time) / 60)"
   ]
  },
  {
   "cell_type": "code",
   "execution_count": 9,
   "id": "32725826",
   "metadata": {},
   "outputs": [],
   "source": [
    "with torch.no_grad():\n",
    "    posterior = model.posterior(\n",
    "        torch.tensor(data.X_test, device=device, dtype=dtype)\n",
    "    )"
   ]
  },
  {
   "cell_type": "code",
   "execution_count": 10,
   "id": "2b4d9ff5",
   "metadata": {},
   "outputs": [
    {
     "name": "stdout",
     "output_type": "stream",
     "text": [
      "tensor(0.0643, dtype=torch.float64)\n",
      "tensor(-3.4310, device='cuda:0', grad_fn=<MeanBackward0>)\n"
     ]
    }
   ],
   "source": [
    "mse = torch.mean((posterior.mean.cpu() - torch.tensor(data.Y_test))**2)\n",
    "print(mse)\n",
    "\n",
    "nll = torch.distributions.Normal(\n",
    "    posterior.mean, posterior.variance**0.5\n",
    ").log_prob(torch.tensor(data.Y_test, device=device, dtype=dtype)).mean()\n",
    "print(nll)"
   ]
  },
  {
   "cell_type": "markdown",
   "id": "6395b8d3",
   "metadata": {},
   "source": [
    "### Investigating the Predictive Variances"
   ]
  },
  {
   "cell_type": "markdown",
   "id": "dfc3145f",
   "metadata": {},
   "source": [
    "- Kapoor et al, ICML '21 https://arxiv.org/abs/2106.06695\n",
    "- Sun et al, ICML '21 https://arxiv.org/abs/2106.05992\n",
    "- Potapczynski et al, ICML, '21 https://arxiv.org/abs/2102.06695"
   ]
  },
  {
   "cell_type": "code",
   "execution_count": 11,
   "id": "94fdf486",
   "metadata": {},
   "outputs": [
    {
     "data": {
      "text/plain": [
       "(array([1918.,  158.,  169.,  179.,  215.,  265.,  300.,  397.,  521.,\n",
       "        2239.]),\n",
       " array([0.00088435, 0.07011063, 0.13933691, 0.20856321, 0.27778947,\n",
       "        0.34701577, 0.41624206, 0.48546833, 0.5546946 , 0.6239209 ,\n",
       "        0.6931472 ], dtype=float32),\n",
       " <BarContainer object of 10 artists>)"
      ]
     },
     "execution_count": 11,
     "metadata": {},
     "output_type": "execute_result"
    },
    {
     "data": {
      "image/png": "[encoded data removed]",
      "text/plain": [
       "<Figure size 432x288 with 1 Axes>"
      ]
     },
     "metadata": {
      "needs_background": "light"
     },
     "output_type": "display_data"
    }
   ],
   "source": [
    "import matplotlib.pyplot as plt\n",
    "\n",
    "plt.hist(posterior.variance.cpu().detach().numpy())"
   ]
  },
  {
   "cell_type": "markdown",
   "id": "42a087d9",
   "metadata": {},
   "source": [
    "While the MSE is pretty small, the NLL is much lower than the MSE would natively suggest. Indeed, investigating the NLL, we can immediately spot what's going on: \n",
    "\n",
    "\\begin{align}\n",
    "\\LARGE \\mathrm{NLL}(\\sigma^2) := \\frac{1}{2}\\log \\sigma^2 + \\frac{1}{2\\sigma^2}(\\mu - y)^2~,\n",
    "\\end{align}"
   ]
  },
  {
   "cell_type": "code",
   "execution_count": 13,
   "id": "a02e2b31",
   "metadata": {},
   "outputs": [],
   "source": [
    "rank_test = [10, 50, 100, 1000, 5000, 10000]\n",
    "nll_rank_list = []\n",
    "\n",
    "for rank in rank_test:\n",
    "    model.train() # to clear any caches\n",
    "    with gpytorch.settings.max_root_decomposition_size(rank):\n",
    "        posterior = model.posterior(\n",
    "            torch.tensor(data.X_test, device=device, dtype=dtype)\n",
    "        )\n",
    "        nll = torch.distributions.Normal(\n",
    "            posterior.mean, \n",
    "            posterior.variance**0.5\n",
    "        ).log_prob(\n",
    "            torch.tensor(data.Y_test, device=device, dtype=dtype)\n",
    "        ).mean()\n",
    "        nll_rank_list.append(nll)"
   ]
  },
  {
   "cell_type": "code",
   "execution_count": 24,
   "id": "390638a4",
   "metadata": {},
   "outputs": [
    {
     "data": {
      "text/plain": [
       "Text(0.5, 1.0, 'Entire Test Set')"
      ]
     },
     "execution_count": 24,
     "metadata": {},
     "output_type": "execute_result"
    },
    {
     "data": {
      "image/png": "[encoded data removed]",
      "text/plain": [
       "<Figure size 1152x360 with 2 Axes>"
      ]
     },
     "metadata": {
      "needs_background": "light"
     },
     "output_type": "display_data"
    }
   ],
   "source": [
    "fig, ax = plt.subplots(1, 2, figsize = (16, 5))\n",
    "\n",
    "var_range = torch.linspace(0.001, 1.0, 1000)\n",
    "ax[0].plot(\n",
    "    var_range, \n",
    "    0.5 * (var_range.log() + mse.cpu().detach() / var_range), \n",
    "    linewidth = 4\n",
    ")\n",
    "ax[0].axvline(mse.cpu().detach(), color = \"purple\", linewidth = 4, label = \"MSE\")\n",
    "ax[0].legend(fontsize = 20)\n",
    "ax[0].semilogx()\n",
    "ax[0].set_xlabel(\"Variance\", fontsize = 20)\n",
    "ax[0].set_ylabel(\"Test NLL\", fontsize = 20)\n",
    "ax[0].grid()\n",
    "\n",
    "ax[0].set_title(\"Single Data Point\", fontsize = 20)\n",
    "\n",
    "ax[1].plot(\n",
    "    rank_test, \n",
    "    [x.detach().cpu() for x in nll_rank_list], \n",
    "    marker = \".\", \n",
    "    markersize = 20\n",
    ")\n",
    "ax[1].semilogx()\n",
    "ax[1].set_xlabel(\"Root Decomposition Size\", fontsize = 20)\n",
    "ax[1].set_ylabel(\"Test NLL\", fontsize = 20)\n",
    "ax[1].grid()\n",
    "ax[1].set_title(\"Entire Test Set\", fontsize = 20)\n"
   ]
  },
  {
   "cell_type": "markdown",
   "id": "85a986e7",
   "metadata": {},
   "source": [
    "### Investigating the Predictive Means\n",
    "\n",
    "Finally, we close by demonstrating the effect of the predictive means using the conjugate gradients tolerance threshold."
   ]
  },
  {
   "cell_type": "code",
   "execution_count": 15,
   "id": "5a7eb052",
   "metadata": {},
   "outputs": [],
   "source": [
    "def mock_predictive_mean(test_X):\n",
    "    # faked mean cache\n",
    "    model.train()\n",
    "    train_dist = model.likelihood(model(*model.train_inputs))\n",
    "    train_mean, train_train_covar = train_dist.loc, train_dist.lazy_covariance_matrix\n",
    "    train_labels_offset = (\n",
    "        model.train_targets - train_mean\n",
    "    ).unsqueeze(-1)\n",
    "    \n",
    "    # compute z = \\hat K^{-1} (y - \\mu)\n",
    "    mean_cache = train_train_covar.evaluate_kernel().inv_matmul(\n",
    "        train_labels_offset\n",
    "    ).squeeze(-1)\n",
    "    \n",
    "    # compute K_{test, train} z\n",
    "    test_train_covar = model.covar_module(test_X, *model.train_inputs)\n",
    "    test_pred_zero_mean = test_train_covar.matmul(mean_cache)\n",
    "    \n",
    "    return train_dist.loc[0] * torch.ones_like(\n",
    "        test_pred_zero_mean\n",
    "    ) + test_pred_zero_mean"
   ]
  },
  {
   "cell_type": "code",
   "execution_count": 16,
   "id": "5b497f09",
   "metadata": {},
   "outputs": [],
   "source": [
    "cg_test = [1.0, 0.25, 0.1, 0.01, 0.001, 0.0001, 0.00001]\n",
    "mse_tol_list = []\n",
    "\n",
    "# we iterate over the set of cg tolerances\n",
    "for tol in cg_test:\n",
    "    with gpytorch.settings.cg_tolerance(tol), \\\n",
    "        gpytorch.settings.skip_posterior_variances(True):\n",
    "        mocked_mean = mock_predictive_mean(\n",
    "            torch.tensor(data.X_test, device=device, dtype=dtype)\n",
    "        )\n",
    "        mse = torch.mean(\n",
    "            (mocked_mean.cpu().unsqueeze(-1) - \\\n",
    "             torch.tensor(data.Y_test)\n",
    "        )**2).detach()\n",
    "    mse_tol_list.append(mse)"
   ]
  },
  {
   "cell_type": "code",
   "execution_count": 17,
   "id": "55d0bdce",
   "metadata": {},
   "outputs": [
    {
     "data": {
      "image/png": "[encoded data removed]",
      "text/plain": [
       "<Figure size 432x288 with 1 Axes>"
      ]
     },
     "metadata": {
      "needs_background": "light"
     },
     "output_type": "display_data"
    }
   ],
   "source": [
    "plt.plot(cg_test, mse_tol_list, marker = \".\", markersize = 20)\n",
    "plt.semilogx()\n",
    "\n",
    "plt.xlabel(\"CG Tolerance\", fontsize = 20)\n",
    "plt.ylabel(\"Test MSE\", fontsize = 20)\n",
    "plt.grid()"
   ]
  },
  {
   "cell_type": "code",
   "execution_count": null,
   "id": "4a2c4efb",
   "metadata": {},
   "outputs": [],
   "source": []
  }
 ],
 "metadata": {
  "kernelspec": {
   "display_name": "Python 3",
   "language": "python",
   "name": "python3"
  },
  "language_info": {
   "codemirror_mode": {
    "name": "ipython",
    "version": 3
   },
   "file_extension": ".py",
   "mimetype": "text/x-python",
   "name": "python",
   "nbconvert_exporter": "python",
   "pygments_lexer": "ipython3",
   "version": "3.7.6"
  }
 },
 "nbformat": 4,
 "nbformat_minor": 5
}
