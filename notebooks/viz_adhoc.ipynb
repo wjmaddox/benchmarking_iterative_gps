{
 "cells": [
  {
   "cell_type": "code",
   "execution_count": null,
   "metadata": {},
   "outputs": [],
   "source": [
    "import wandb\n",
    "import pandas as pd\n",
    "import matplotlib.pyplot as plt\n",
    "import seaborn as sns\n",
    "\n",
    "sns.set(font_scale=2., style='whitegrid')"
   ]
  },
  {
   "cell_type": "code",
   "execution_count": null,
   "metadata": {},
   "outputs": [],
   "source": [
    "plt_data = pd.DataFrame({\n",
    "  'dataset': ['bike', 'bike', 'bike', 'bike', 'bike', 'bike', 'bike', 'bike', 'elevators', 'elevators', 'elevators', 'elevators', 'elevators', 'elevators', 'elevators', 'elevators'],\n",
    "  'rmse': [0.85609, 0.14115, 0.03101, 0.02742, 1.08444, 0.14306, 0.02507, 0.02507, 0.79758, 0.37068, 0.35353, 0.35333, 0.52934, 0.3866, 0.34368, 0.34334],\n",
    "  'cg_tol': [1.0, 1e-1, 1e-2, 1e-3, 1.0, 1e-1, 1e-2, 1e-3, 1.0, 1e-1, 1e-2, 1e-3, 1.0, 1e-1, 1e-2, 1e-3],\n",
    "  'optimizer': ['Adam', 'Adam', 'Adam', 'Adam', 'L-BFGS-B', 'L-BFGS-B', 'L-BFGS-B', 'L-BFGS-B', 'Adam', 'Adam', 'Adam', 'Adam', 'L-BFGS-B', 'L-BFGS-B', 'L-BFGS-B', 'L-BFGS-B']\n",
    "})\n",
    "plt_data"
   ]
  },
  {
   "cell_type": "code",
   "execution_count": null,
   "metadata": {},
   "outputs": [],
   "source": [
    "fig, ax = plt.subplots(figsize=(7,7))\n",
    "sns.lineplot(ax=ax, data=plt_data[plt_data.dataset == 'elevators'], x='cg_tol', y='rmse', hue='optimizer',\n",
    "            marker='o', markersize=15, linewidth=5,\n",
    "            palette=sns.color_palette('Purples', 2))\n",
    "ax.set_xlabel('CG Tolerance')\n",
    "ax.set_ylabel('Test RMSE')\n",
    "handles, labels = ax.get_legend_handles_labels()\n",
    "for h in handles:\n",
    "    h.set(linewidth=5)\n",
    "ax.legend(title='')\n",
    "ax.set_xscale('log')\n",
    "fig.tight_layout()\n",
    "fig.savefig('elevators_vary_test_cg.pdf', bbox_inches='tight')"
   ]
  },
  {
   "cell_type": "code",
   "execution_count": null,
   "metadata": {},
   "outputs": [],
   "source": []
  }
 ],
 "metadata": {
  "interpreter": {
   "hash": "43cd1a811e68af331b9ca0b873fb104a3b7ca89da05b580e51ec1c1374318411"
  },
  "kernelspec": {
   "display_name": "Python 3.9.4 64-bit ('gp-bfgs': conda)",
   "name": "python3"
  },
  "language_info": {
   "codemirror_mode": {
    "name": "ipython",
    "version": 3
   },
   "file_extension": ".py",
   "mimetype": "text/x-python",
   "name": "python",
   "nbconvert_exporter": "python",
   "pygments_lexer": "ipython3",
   "version": "3.9.4"
  },
  "orig_nbformat": 4
 },
 "nbformat": 4,
 "nbformat_minor": 2
}